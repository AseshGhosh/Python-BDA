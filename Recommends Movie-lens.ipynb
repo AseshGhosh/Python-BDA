{
  "nbformat": 4,
  "nbformat_minor": 0,
  "metadata": {
    "colab": {
      "provenance": []
    },
    "kernelspec": {
      "name": "python3",
      "display_name": "Python 3"
    },
    "language_info": {
      "name": "python"
    }
  },
  "cells": [
    {
      "cell_type": "code",
      "source": [
        "from pyspark.sql import SparkSession\n",
        "spark = SparkSession.builder.appName('movielens_ratings.csv').getOrCreate()\n"
      ],
      "metadata": {
        "id": "YDJth5_M5bwZ"
      },
      "execution_count": 18,
      "outputs": []
    },
    {
      "cell_type": "code",
      "source": [
        "from pyspark.ml.evaluation import RegressionEvaluator\n",
        "from pyspark.ml.recommendation import ALS"
      ],
      "metadata": {
        "id": "4DWVcgQx5zp-"
      },
      "execution_count": 5,
      "outputs": []
    },
    {
      "cell_type": "code",
      "source": [
        "data = spark.read.csv('movielens_ratings.csv',inferSchema=True,header=True)"
      ],
      "metadata": {
        "id": "DxnvzSfK7sVk"
      },
      "execution_count": 6,
      "outputs": []
    },
    {
      "cell_type": "code",
      "source": [
        "data.head()"
      ],
      "metadata": {
        "colab": {
          "base_uri": "https://localhost:8080/"
        },
        "id": "rSVre6sc71lg",
        "outputId": "73af570f-b9b0-4acf-974d-f0e4150f37fd"
      },
      "execution_count": 7,
      "outputs": [
        {
          "output_type": "execute_result",
          "data": {
            "text/plain": [
              "Row(movieId=2, rating=3.0, userId=0)"
            ]
          },
          "metadata": {},
          "execution_count": 7
        }
      ]
    },
    {
      "cell_type": "code",
      "source": [
        "data.printSchema()"
      ],
      "metadata": {
        "colab": {
          "base_uri": "https://localhost:8080/"
        },
        "id": "6adUcjfk8C8n",
        "outputId": "d0ef5dfa-b064-4c4f-9793-4fc9937b522f"
      },
      "execution_count": 8,
      "outputs": [
        {
          "output_type": "stream",
          "name": "stdout",
          "text": [
            "root\n",
            " |-- movieId: integer (nullable = true)\n",
            " |-- rating: double (nullable = true)\n",
            " |-- userId: integer (nullable = true)\n",
            "\n"
          ]
        }
      ]
    },
    {
      "cell_type": "code",
      "source": [
        "data.describe().show()"
      ],
      "metadata": {
        "colab": {
          "base_uri": "https://localhost:8080/"
        },
        "id": "cFHU9TIU8EG_",
        "outputId": "ab49115d-211a-440c-bf2f-11ea4f476ba5"
      },
      "execution_count": 9,
      "outputs": [
        {
          "output_type": "stream",
          "name": "stdout",
          "text": [
            "+-------+------------------+------------------+------------------+\n",
            "|summary|           movieId|            rating|            userId|\n",
            "+-------+------------------+------------------+------------------+\n",
            "|  count|              1501|              1501|              1501|\n",
            "|   mean| 49.40572951365756|1.7741505662891406|14.383744170552964|\n",
            "| stddev|28.937034065088994| 1.187276166124803| 8.591040424293272|\n",
            "|    min|                 0|               1.0|                 0|\n",
            "|    max|                99|               5.0|                29|\n",
            "+-------+------------------+------------------+------------------+\n",
            "\n"
          ]
        }
      ]
    },
    {
      "cell_type": "code",
      "source": [
        "(train_data, test_data) = data.randomSplit([0.8, 0.2], seed=42)"
      ],
      "metadata": {
        "id": "XHDaLd0_8Gqi"
      },
      "execution_count": 12,
      "outputs": []
    },
    {
      "cell_type": "code",
      "source": [
        "# Build the recommendation model using ALS on the training data\n",
        "als = ALS(maxIter=5, regParam=0.01, userCol=\"userId\", itemCol=\"movieId\", ratingCol=\"rating\")\n",
        "model = als.fit(train_data)"
      ],
      "metadata": {
        "id": "ZsiXg_308Kk9"
      },
      "execution_count": 34,
      "outputs": []
    },
    {
      "cell_type": "code",
      "source": [
        "predictions = model.transform(test_data)\n",
        "#Evaluation of the model"
      ],
      "metadata": {
        "id": "Uarqtgw38UWb"
      },
      "execution_count": 35,
      "outputs": []
    },
    {
      "cell_type": "code",
      "source": [
        "predictions.show(10)"
      ],
      "metadata": {
        "colab": {
          "base_uri": "https://localhost:8080/"
        },
        "id": "olaZkaig8ixG",
        "outputId": "114a632e-1168-4c3f-c4b7-7bae5cdbc3cb"
      },
      "execution_count": 37,
      "outputs": [
        {
          "output_type": "stream",
          "name": "stdout",
          "text": [
            "+-------+------+------+-----------+\n",
            "|movieId|rating|userId| prediction|\n",
            "+-------+------+------+-----------+\n",
            "|      2|   4.0|    28|  2.5897458|\n",
            "|      0|   1.0|    27|   2.126813|\n",
            "|      0|   1.0|     6|  1.1123132|\n",
            "|      1|   1.0|     6|  0.6465726|\n",
            "|      2|   1.0|     3|  1.2940022|\n",
            "|      0|   1.0|    20| -0.4973111|\n",
            "|      1|   1.0|    19|-0.02451837|\n",
            "|      0|   1.0|    15|   -1.15178|\n",
            "|      2|   1.0|    23| -1.8205764|\n",
            "|      2|   4.0|    10|  1.0216205|\n",
            "+-------+------+------+-----------+\n",
            "only showing top 10 rows\n",
            "\n"
          ]
        }
      ]
    },
    {
      "cell_type": "code",
      "source": [
        "evaluator = RegressionEvaluator(metricName=\"rmse\", labelCol=\"rating\",predictionCol=\"prediction\")\n",
        "#calculate how far are the predicted observations\n"
      ],
      "metadata": {
        "id": "3ADK2msu8rUk"
      },
      "execution_count": 46,
      "outputs": []
    },
    {
      "cell_type": "code",
      "source": [
        "rmse = evaluator.evaluate(predictions)\n",
        "#RMSE indicates how good the model\n",
        "print(\"Root-mean-square error = \" + str(rmse))"
      ],
      "metadata": {
        "colab": {
          "base_uri": "https://localhost:8080/"
        },
        "id": "l6D0wsmj8wo5",
        "outputId": "c8c32daa-7459-470f-8c6d-1dc20a03c730"
      },
      "execution_count": 47,
      "outputs": [
        {
          "output_type": "stream",
          "name": "stdout",
          "text": [
            "Root-mean-square error = 1.5848124771517471\n"
          ]
        }
      ]
    },
    {
      "cell_type": "code",
      "source": [
        "#how to check for a new user\n",
        "single_user = test_data.filter(test_data['userId']==11).select(['movieId','userId'])"
      ],
      "metadata": {
        "id": "PuNpzb-V9y-_"
      },
      "execution_count": 48,
      "outputs": []
    },
    {
      "cell_type": "code",
      "source": [
        "single_user.show()"
      ],
      "metadata": {
        "colab": {
          "base_uri": "https://localhost:8080/"
        },
        "id": "fDq8FS9k-HZO",
        "outputId": "15adf238-6eb0-4657-9050-0f6e31da94e4"
      },
      "execution_count": 49,
      "outputs": [
        {
          "output_type": "stream",
          "name": "stdout",
          "text": [
            "+-------+------+\n",
            "|movieId|userId|\n",
            "+-------+------+\n",
            "|     11|    11|\n",
            "|     32|    11|\n",
            "|     59|    11|\n",
            "|     62|    11|\n",
            "|     66|    11|\n",
            "|     67|    11|\n",
            "+-------+------+\n",
            "\n"
          ]
        }
      ]
    },
    {
      "cell_type": "code",
      "source": [
        "reccomendations = model.transform(single_user)"
      ],
      "metadata": {
        "id": "-9NAAbDa-LDT"
      },
      "execution_count": 50,
      "outputs": []
    },
    {
      "cell_type": "code",
      "source": [
        "reccomendations.orderBy('prediction',ascending=False).show()"
      ],
      "metadata": {
        "colab": {
          "base_uri": "https://localhost:8080/"
        },
        "id": "-uguHydb-Xxb",
        "outputId": "3e94554a-51b8-482b-cd65-0ca064c3f368"
      },
      "execution_count": 51,
      "outputs": [
        {
          "output_type": "stream",
          "name": "stdout",
          "text": [
            "+-------+------+----------+\n",
            "|movieId|userId|prediction|\n",
            "+-------+------+----------+\n",
            "|     32|    11|  4.472936|\n",
            "|     66|    11| 3.2859223|\n",
            "|     59|    11|  2.859868|\n",
            "|     62|    11|  2.851833|\n",
            "|     67|    11| 1.0817742|\n",
            "|     11|    11|-0.8392538|\n",
            "+-------+------+----------+\n",
            "\n"
          ]
        }
      ]
    },
    {
      "cell_type": "code",
      "source": [],
      "metadata": {
        "id": "Q3MNNELq_X_l"
      },
      "execution_count": null,
      "outputs": []
    }
  ]
}