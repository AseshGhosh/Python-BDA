{
  "nbformat": 4,
  "nbformat_minor": 0,
  "metadata": {
    "colab": {
      "provenance": []
    },
    "kernelspec": {
      "name": "python3",
      "display_name": "Python 3"
    },
    "language_info": {
      "name": "python"
    }
  },
  "cells": [
    {
      "cell_type": "code",
      "execution_count": 36,
      "metadata": {
        "id": "WgL96IYCSCBs"
      },
      "outputs": [],
      "source": [
        "#pip install pyspark"
      ]
    },
    {
      "cell_type": "code",
      "source": [
        "from pyspark.sql import SparkSession\n",
        "from pyspark.ml.feature import StringIndexer, VectorAssembler\n",
        "from pyspark.ml.classification import RandomForestClassifier, GBTClassifier\n",
        "from pyspark.ml import Pipeline\n",
        "from pyspark.ml.evaluation import BinaryClassificationEvaluator\n",
        "\n"
      ],
      "metadata": {
        "id": "RZ-5GsUivm8Z"
      },
      "execution_count": 3,
      "outputs": []
    },
    {
      "cell_type": "code",
      "source": [
        "from pyspark.sql import SparkSession\n",
        "spark = SparkSession.builder.appName('Credit Analysis').getOrCreate()"
      ],
      "metadata": {
        "id": "oUnY4mSjSKAK"
      },
      "execution_count": 4,
      "outputs": []
    },
    {
      "cell_type": "code",
      "source": [
        "data = spark.read.csv(\"Loan Data.csv\", inferSchema=True, header=True)"
      ],
      "metadata": {
        "id": "7at1axU8SmhT"
      },
      "execution_count": 5,
      "outputs": []
    },
    {
      "cell_type": "code",
      "source": [
        "data.printSchema()"
      ],
      "metadata": {
        "colab": {
          "base_uri": "https://localhost:8080/"
        },
        "id": "FQlpraqZS8BV",
        "outputId": "ec2f7018-67b8-4788-aab4-2353d4b9ceb0"
      },
      "execution_count": 7,
      "outputs": [
        {
          "output_type": "stream",
          "name": "stdout",
          "text": [
            "root\n",
            " |-- loan_amnt: integer (nullable = true)\n",
            " |-- funded_amnt: integer (nullable = true)\n",
            " |-- funded_amnt_inv: integer (nullable = true)\n",
            " |-- term: integer (nullable = true)\n",
            " |-- int_rate: double (nullable = true)\n",
            " |-- emp_length: integer (nullable = true)\n",
            " |-- home_ownership: integer (nullable = true)\n",
            " |-- annual_inc: double (nullable = true)\n",
            " |-- verification_status: integer (nullable = true)\n",
            " |-- purpose: string (nullable = true)\n",
            " |-- 1/0: integer (nullable = true)\n",
            "\n"
          ]
        }
      ]
    },
    {
      "cell_type": "code",
      "source": [
        "data.head(1)"
      ],
      "metadata": {
        "colab": {
          "base_uri": "https://localhost:8080/"
        },
        "id": "yztmUb4jTCDb",
        "outputId": "b716f4b3-4cf7-4c10-d9d5-bfd007f44235"
      },
      "execution_count": 8,
      "outputs": [
        {
          "output_type": "execute_result",
          "data": {
            "text/plain": [
              "[Row(loan_amnt=3600, funded_amnt=3600, funded_amnt_inv=3600, term=0, int_rate=13.99, emp_length=10, home_ownership=4, annual_inc=55000.0, verification_status=0, purpose='debt_consolidation', 1/0=1)]"
            ]
          },
          "metadata": {},
          "execution_count": 8
        }
      ]
    },
    {
      "cell_type": "code",
      "source": [
        "from pyspark.ml.feature import VectorAssembler"
      ],
      "metadata": {
        "id": "ImzXwmrJUcB7"
      },
      "execution_count": 9,
      "outputs": []
    },
    {
      "cell_type": "code",
      "source": [
        "data.columns"
      ],
      "metadata": {
        "colab": {
          "base_uri": "https://localhost:8080/"
        },
        "id": "VAQnbOXZUiTW",
        "outputId": "c72145c2-1924-466b-9d82-fbec4cbb1b0f"
      },
      "execution_count": 10,
      "outputs": [
        {
          "output_type": "execute_result",
          "data": {
            "text/plain": [
              "['loan_amnt',\n",
              " 'funded_amnt',\n",
              " 'funded_amnt_inv',\n",
              " 'term',\n",
              " 'int_rate',\n",
              " 'emp_length',\n",
              " 'home_ownership',\n",
              " 'annual_inc',\n",
              " 'verification_status',\n",
              " 'purpose',\n",
              " '1/0']"
            ]
          },
          "metadata": {},
          "execution_count": 10
        }
      ]
    },
    {
      "cell_type": "code",
      "source": [
        "assembler = VectorAssembler(inputCols=['loan_amnt',\n",
        " 'funded_amnt',\n",
        " 'funded_amnt_inv',\n",
        " 'term',\n",
        " 'int_rate',\n",
        " 'emp_length',\n",
        " 'home_ownership',\n",
        " 'annual_inc',\n",
        " 'verification_status',\n",
        " '1/0'],\n",
        "outputCol='features')"
      ],
      "metadata": {
        "id": "GnojtnrvUk-5"
      },
      "execution_count": 11,
      "outputs": []
    },
    {
      "cell_type": "code",
      "source": [
        "\n",
        "from pyspark.ml.feature import StringIndexer"
      ],
      "metadata": {
        "id": "_3NE2SlDU02h"
      },
      "execution_count": 12,
      "outputs": []
    },
    {
      "cell_type": "code",
      "source": [
        "from pyspark.ml.feature import StringIndexer\n",
        "\n",
        "indexer = StringIndexer(inputCol=('purpose'),outputCol=('purposeIndex'))\n"
      ],
      "metadata": {
        "id": "X6RzrKLPVHUV"
      },
      "execution_count": 13,
      "outputs": []
    },
    {
      "cell_type": "code",
      "source": [
        "output = assembler.transform(data)"
      ],
      "metadata": {
        "id": "mB4oks-ZV7-6"
      },
      "execution_count": 14,
      "outputs": []
    },
    {
      "cell_type": "code",
      "source": [
        "output_fixed = indexer.fit(output).transform(output)"
      ],
      "metadata": {
        "id": "F2XOgSJpYZb8"
      },
      "execution_count": 15,
      "outputs": []
    },
    {
      "cell_type": "code",
      "source": [
        "output_fixed.printSchema()"
      ],
      "metadata": {
        "colab": {
          "base_uri": "https://localhost:8080/"
        },
        "id": "ar5i6JppaG8x",
        "outputId": "ae76869e-6e3b-4f73-ed52-02e70908dc36"
      },
      "execution_count": 16,
      "outputs": [
        {
          "output_type": "stream",
          "name": "stdout",
          "text": [
            "root\n",
            " |-- loan_amnt: integer (nullable = true)\n",
            " |-- funded_amnt: integer (nullable = true)\n",
            " |-- funded_amnt_inv: integer (nullable = true)\n",
            " |-- term: integer (nullable = true)\n",
            " |-- int_rate: double (nullable = true)\n",
            " |-- emp_length: integer (nullable = true)\n",
            " |-- home_ownership: integer (nullable = true)\n",
            " |-- annual_inc: double (nullable = true)\n",
            " |-- verification_status: integer (nullable = true)\n",
            " |-- purpose: string (nullable = true)\n",
            " |-- 1/0: integer (nullable = true)\n",
            " |-- features: vector (nullable = true)\n",
            " |-- purposeIndex: double (nullable = false)\n",
            "\n"
          ]
        }
      ]
    },
    {
      "cell_type": "code",
      "source": [
        "final_data = output_fixed.select('features','purposeIndex')"
      ],
      "metadata": {
        "id": "7dSOaS34aLT-"
      },
      "execution_count": 17,
      "outputs": []
    },
    {
      "cell_type": "code",
      "source": [
        "train_data,test_data = final_data.randomSplit([0.7,0.3])"
      ],
      "metadata": {
        "id": "zfAH1b66aU9n"
      },
      "execution_count": 18,
      "outputs": []
    },
    {
      "cell_type": "code",
      "source": [
        "from pyspark.ml.classification import (DecisionTreeClassifier,\n",
        "                                       RandomForestClassifier,\n",
        "                                      )"
      ],
      "metadata": {
        "id": "9LjrRMXvaYO2"
      },
      "execution_count": 19,
      "outputs": []
    },
    {
      "cell_type": "code",
      "source": [
        "from pyspark.ml import Pipeline"
      ],
      "metadata": {
        "id": "plxEuuGXabG8"
      },
      "execution_count": 20,
      "outputs": []
    },
    {
      "cell_type": "code",
      "source": [
        "dtc = DecisionTreeClassifier(labelCol='purposeIndex', featuresCol='features')\n",
        "rfc = RandomForestClassifier(numTrees=150,labelCol='purposeIndex', featuresCol='features')\n"
      ],
      "metadata": {
        "id": "PKz7fWeuaeUr"
      },
      "execution_count": 21,
      "outputs": []
    },
    {
      "cell_type": "code",
      "source": [
        "dtc_model=dtc.fit(train_data)\n",
        "rfc_model=rfc.fit(train_data)\n"
      ],
      "metadata": {
        "id": "9oA91ySWag0P"
      },
      "execution_count": 22,
      "outputs": []
    },
    {
      "cell_type": "code",
      "source": [
        "dtc_pred = dtc_model.transform(test_data)\n",
        "rfc_pred = rfc_model.transform(test_data)\n"
      ],
      "metadata": {
        "id": "0c2ev9wTasQM"
      },
      "execution_count": 23,
      "outputs": []
    },
    {
      "cell_type": "code",
      "source": [
        "from pyspark.ml.evaluation import MulticlassClassificationEvaluator"
      ],
      "metadata": {
        "id": "m-qy6wP_a5Ym"
      },
      "execution_count": 24,
      "outputs": []
    },
    {
      "cell_type": "code",
      "source": [
        "my_multi_eval = MulticlassClassificationEvaluator(labelCol='purposeIndex')"
      ],
      "metadata": {
        "id": "uZMz8Xp2bvd9"
      },
      "execution_count": 25,
      "outputs": []
    },
    {
      "cell_type": "code",
      "source": [
        "print('RFC')\n",
        "print(my_multi_eval.evaluate(rfc_pred))"
      ],
      "metadata": {
        "colab": {
          "base_uri": "https://localhost:8080/"
        },
        "id": "EaVKIPj_b3F-",
        "outputId": "b9387318-fdaa-42e9-e996-e6351ec5e249"
      },
      "execution_count": 26,
      "outputs": [
        {
          "output_type": "stream",
          "name": "stdout",
          "text": [
            "RFC\n",
            "0.4202160395799258\n"
          ]
        }
      ]
    },
    {
      "cell_type": "code",
      "source": [
        "print('DTC')\n",
        "print(my_multi_eval.evaluate(dtc_pred))"
      ],
      "metadata": {
        "id": "I9Pkm6Dnb6pw",
        "colab": {
          "base_uri": "https://localhost:8080/"
        },
        "outputId": "49e65870-9396-4f77-be35-c9c2a6eb54e9"
      },
      "execution_count": 27,
      "outputs": [
        {
          "output_type": "stream",
          "name": "stdout",
          "text": [
            "DTC\n",
            "0.44335634654276584\n"
          ]
        }
      ]
    },
    {
      "cell_type": "code",
      "source": [
        "from pyspark.ml.classification import LogisticRegression"
      ],
      "metadata": {
        "id": "2sSjcUWOdLNU"
      },
      "execution_count": 28,
      "outputs": []
    },
    {
      "cell_type": "code",
      "source": [
        "lr_churn = LogisticRegression(labelCol='purposeIndex')"
      ],
      "metadata": {
        "id": "R6EYpiEngCWZ"
      },
      "execution_count": 29,
      "outputs": []
    },
    {
      "cell_type": "code",
      "source": [
        "fitted_churn_model = lr_churn.fit(train_data)"
      ],
      "metadata": {
        "id": "PBXUy15xgJjA"
      },
      "execution_count": 30,
      "outputs": []
    },
    {
      "cell_type": "code",
      "source": [
        "pred_and_labels = fitted_churn_model.evaluate(test_data)"
      ],
      "metadata": {
        "id": "lfVaN5SagPVc"
      },
      "execution_count": 31,
      "outputs": []
    },
    {
      "cell_type": "code",
      "source": [
        "churn_eval = MulticlassClassificationEvaluator(\n",
        "                                           labelCol='purposeIndex')"
      ],
      "metadata": {
        "id": "Ew-uV9vBgg72"
      },
      "execution_count": 32,
      "outputs": []
    },
    {
      "cell_type": "code",
      "source": [
        "auc = churn_eval.evaluate(pred_and_labels.predictions)"
      ],
      "metadata": {
        "id": "axjN9EbagxEQ"
      },
      "execution_count": 33,
      "outputs": []
    },
    {
      "cell_type": "code",
      "source": [
        "auc"
      ],
      "metadata": {
        "colab": {
          "base_uri": "https://localhost:8080/"
        },
        "id": "e8HJ0qgIg3Tw",
        "outputId": "db127b16-6b16-4808-b3a3-5caf9b8bf302"
      },
      "execution_count": 34,
      "outputs": [
        {
          "output_type": "execute_result",
          "data": {
            "text/plain": [
              "0.4400728712776844"
            ]
          },
          "metadata": {},
          "execution_count": 34
        }
      ]
    },
    {
      "cell_type": "code",
      "source": [
        "acc_eval = MulticlassClassificationEvaluator(labelCol='purposeIndex',\n",
        "                                             metricName='accuracy')\n",
        "rfc_acc = acc_eval.evaluate(rfc_pred)\n",
        "rfc_acc"
      ],
      "metadata": {
        "colab": {
          "base_uri": "https://localhost:8080/"
        },
        "id": "3tU66_lKIb39",
        "outputId": "b8191b2a-6456-4125-9c8a-682e18cb360d"
      },
      "execution_count": 35,
      "outputs": [
        {
          "output_type": "execute_result",
          "data": {
            "text/plain": [
              "0.5690208667736758"
            ]
          },
          "metadata": {},
          "execution_count": 35
        }
      ]
    }
  ]
}