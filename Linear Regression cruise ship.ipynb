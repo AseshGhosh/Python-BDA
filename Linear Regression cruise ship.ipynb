{
 "cells": [
  {
   "cell_type": "code",
   "execution_count": 1,
   "id": "a94b1a20-eff9-41c2-a270-ab227a18498a",
   "metadata": {},
   "outputs": [],
   "source": [
    "from pyspark.sql import SparkSession"
   ]
  },
  {
   "cell_type": "code",
   "execution_count": 2,
   "id": "5b772f22-adc8-4c7f-8e87-675998b8f71a",
   "metadata": {},
   "outputs": [
    {
     "name": "stderr",
     "output_type": "stream",
     "text": [
      "23/12/13 20:55:46 WARN Utils: Your hostname, MyPySpark resolves to a loopback address: 127.0.1.1; using 10.0.2.15 instead (on interface enp0s3)\n",
      "23/12/13 20:55:46 WARN Utils: Set SPARK_LOCAL_IP if you need to bind to another address\n",
      "Setting default log level to \"WARN\".\n",
      "To adjust logging level use sc.setLogLevel(newLevel). For SparkR, use setLogLevel(newLevel).\n",
      "23/12/13 20:55:47 WARN NativeCodeLoader: Unable to load native-hadoop library for your platform... using builtin-java classes where applicable\n",
      "23/12/13 20:55:48 WARN Utils: Service 'SparkUI' could not bind on port 4040. Attempting port 4041.\n"
     ]
    }
   ],
   "source": [
    "spark = SparkSession.builder.appName(\"lr_example\").getOrCreate()"
   ]
  },
  {
   "cell_type": "code",
   "execution_count": 3,
   "id": "54d788ac-d8fc-4ad1-a4bd-6e8bd8829d4a",
   "metadata": {},
   "outputs": [],
   "source": [
    "from pyspark.ml.regression import LinearRegression"
   ]
  },
  {
   "cell_type": "code",
   "execution_count": 4,
   "id": "3e34c236-4516-4e45-9a85-8fac0dcf9561",
   "metadata": {},
   "outputs": [],
   "source": [
    "data = spark.read.csv(\"cruise_ship_info(2).csv\",inferSchema=True,header=True)"
   ]
  },
  {
   "cell_type": "code",
   "execution_count": 5,
   "id": "8b2600ee-e27c-401d-943b-c7cc9a0d1755",
   "metadata": {},
   "outputs": [
    {
     "name": "stdout",
     "output_type": "stream",
     "text": [
      "root\n",
      " |-- Ship_name: string (nullable = true)\n",
      " |-- Cruise_line: string (nullable = true)\n",
      " |-- Age: integer (nullable = true)\n",
      " |-- Tonnage: double (nullable = true)\n",
      " |-- passengers: double (nullable = true)\n",
      " |-- length: double (nullable = true)\n",
      " |-- cabins: double (nullable = true)\n",
      " |-- passenger_density: double (nullable = true)\n",
      " |-- crew: double (nullable = true)\n",
      "\n"
     ]
    }
   ],
   "source": [
    "data.printSchema()"
   ]
  },
  {
   "cell_type": "code",
   "execution_count": 6,
   "id": "f5d7994d-b841-4b15-ad04-541157cc44b5",
   "metadata": {},
   "outputs": [
    {
     "name": "stdout",
     "output_type": "stream",
     "text": [
      "+---------+-----------+---+------------------+----------+------+------+-----------------+----+\n",
      "|Ship_name|Cruise_line|Age|           Tonnage|passengers|length|cabins|passenger_density|crew|\n",
      "+---------+-----------+---+------------------+----------+------+------+-----------------+----+\n",
      "|  Journey|    Azamara|  6|30.276999999999997|      6.94|  5.94|  3.55|            42.64|3.55|\n",
      "|    Quest|    Azamara|  6|30.276999999999997|      6.94|  5.94|  3.55|            42.64|3.55|\n",
      "+---------+-----------+---+------------------+----------+------+------+-----------------+----+\n",
      "only showing top 2 rows\n",
      "\n"
     ]
    }
   ],
   "source": [
    "data.show(2)"
   ]
  },
  {
   "cell_type": "code",
   "execution_count": 7,
   "id": "56b96793-486a-4605-8c20-dd93ea7092c3",
   "metadata": {},
   "outputs": [],
   "source": [
    "from pyspark.ml.linalg import Vectors\n",
    "from pyspark.ml.feature import StringIndexer, VectorAssembler\n"
   ]
  },
  {
   "cell_type": "code",
   "execution_count": 8,
   "id": "5133a88e-9b9f-4f56-b2f4-5c36850f21c9",
   "metadata": {},
   "outputs": [],
   "source": [
    "index = StringIndexer(\n",
    "    inputCol = \"Cruise_line\",\n",
    "    outputCol = \"CruiseLine\")\n",
    "\n",
    "indexer = index.fit(data).transform(data)\n"
   ]
  },
  {
   "cell_type": "code",
   "execution_count": 9,
   "id": "4ee824be-b6e7-406a-94a4-31177254891c",
   "metadata": {},
   "outputs": [
    {
     "name": "stdout",
     "output_type": "stream",
     "text": [
      "root\n",
      " |-- Ship_name: string (nullable = true)\n",
      " |-- Cruise_line: string (nullable = true)\n",
      " |-- Age: integer (nullable = true)\n",
      " |-- Tonnage: double (nullable = true)\n",
      " |-- passengers: double (nullable = true)\n",
      " |-- length: double (nullable = true)\n",
      " |-- cabins: double (nullable = true)\n",
      " |-- passenger_density: double (nullable = true)\n",
      " |-- crew: double (nullable = true)\n",
      " |-- CruiseLine: double (nullable = false)\n",
      "\n"
     ]
    }
   ],
   "source": [
    "indexer.printSchema()"
   ]
  },
  {
   "cell_type": "code",
   "execution_count": 10,
   "id": "39b88ed0-79cb-4ac9-937e-0d55725393de",
   "metadata": {},
   "outputs": [
    {
     "data": {
      "text/plain": [
       "['Ship_name',\n",
       " 'Cruise_line',\n",
       " 'Age',\n",
       " 'Tonnage',\n",
       " 'passengers',\n",
       " 'length',\n",
       " 'cabins',\n",
       " 'passenger_density',\n",
       " 'crew',\n",
       " 'CruiseLine']"
      ]
     },
     "execution_count": 10,
     "metadata": {},
     "output_type": "execute_result"
    }
   ],
   "source": [
    "indexer.columns\n"
   ]
  },
  {
   "cell_type": "code",
   "execution_count": 11,
   "id": "4d0e0ee5-6dce-41d4-8cda-94d5891a00e9",
   "metadata": {},
   "outputs": [
    {
     "name": "stdout",
     "output_type": "stream",
     "text": [
      "root\n",
      " |-- Ship_name: string (nullable = true)\n",
      " |-- Cruise_line: string (nullable = true)\n",
      " |-- Age: integer (nullable = true)\n",
      " |-- Tonnage: double (nullable = true)\n",
      " |-- passengers: double (nullable = true)\n",
      " |-- length: double (nullable = true)\n",
      " |-- cabins: double (nullable = true)\n",
      " |-- passenger_density: double (nullable = true)\n",
      " |-- crew: double (nullable = true)\n",
      " |-- CruiseLine: double (nullable = false)\n",
      " |-- features: vector (nullable = true)\n",
      "\n"
     ]
    }
   ],
   "source": [
    "assembler = VectorAssembler(\n",
    "    inputCols = ['passengers', 'length',\n",
    "                 'cabins', 'passenger_density', 'CruiseLine'],\n",
    "    outputCol = \"features\")\n",
    "\n",
    "output = assembler.transform(indexer)\n",
    "output.printSchema()\n"
   ]
  },
  {
   "cell_type": "code",
   "execution_count": 14,
   "id": "15ecb1d8-b07c-4734-b82d-26f67a08160a",
   "metadata": {},
   "outputs": [],
   "source": [
    "\n",
    "\n",
    "final_data = output.select('features','crew')\n",
    "train_data,test_data = final_data.randomSplit([0.7,0.3])\n",
    "unlabelled = test_data.select('features')\n",
    "\n"
   ]
  },
  {
   "cell_type": "code",
   "execution_count": 15,
   "id": "86647b1a-d0d7-4996-bacc-c90c8c481aec",
   "metadata": {},
   "outputs": [
    {
     "name": "stdout",
     "output_type": "stream",
     "text": [
      "+--------------------+----+\n",
      "|            features|crew|\n",
      "+--------------------+----+\n",
      "|[6.94,5.94,3.55,4...|3.55|\n",
      "|[6.94,5.94,3.55,4...|3.55|\n",
      "|[14.86,7.22,7.43,...| 6.7|\n",
      "|[29.74,9.53,14.88...|19.1|\n",
      "|[26.42,8.92,13.21...|10.0|\n",
      "|[20.52,8.55,10.2,...| 9.2|\n",
      "|[20.52,8.55,10.2,...| 9.2|\n",
      "|[20.56,8.55,10.22...| 9.2|\n",
      "|[20.52,8.55,10.2,...| 9.2|\n",
      "|[37.0,9.51,14.87,...|11.5|\n",
      "|[29.74,9.51,14.87...|11.6|\n",
      "|[14.52,7.27,7.26,...| 6.6|\n",
      "|[20.52,8.55,10.2,...| 9.2|\n",
      "|[20.52,8.55,10.2,...| 9.2|\n",
      "|[21.24,9.63,10.62...| 9.3|\n",
      "|[29.74,9.51,14.87...|11.6|\n",
      "|[21.24,9.63,10.62...|10.3|\n",
      "|[20.52,8.55,10.2,...| 9.2|\n",
      "|[21.24,9.63,11.62...| 9.3|\n",
      "|[20.52,8.55,10.2,...| 9.2|\n",
      "+--------------------+----+\n",
      "only showing top 20 rows\n",
      "\n"
     ]
    }
   ],
   "source": [
    "final_data.show()"
   ]
  },
  {
   "cell_type": "code",
   "execution_count": 16,
   "id": "254703cd-36a0-40f5-8fce-48b25b1bc442",
   "metadata": {},
   "outputs": [
    {
     "name": "stdout",
     "output_type": "stream",
     "text": [
      "+-------+------------------+\n",
      "|summary|              crew|\n",
      "+-------+------------------+\n",
      "|  count|               110|\n",
      "|   mean| 7.678727272727275|\n",
      "| stddev|3.4067766004936977|\n",
      "|    min|              0.59|\n",
      "|    max|              21.0|\n",
      "+-------+------------------+\n",
      "\n"
     ]
    }
   ],
   "source": [
    "train_data.describe().show()"
   ]
  },
  {
   "cell_type": "code",
   "execution_count": 17,
   "id": "8ab4f95d-0365-4e1b-a1a0-4053223fcff3",
   "metadata": {},
   "outputs": [
    {
     "name": "stderr",
     "output_type": "stream",
     "text": [
      "23/12/13 20:57:17 WARN Instrumentation: [4fad02f3] regParam is zero, which might cause numerical instability and overfitting.\n",
      "23/12/13 20:57:18 WARN InstanceBuilder: Failed to load implementation from:dev.ludovic.netlib.blas.JNIBLAS\n",
      "23/12/13 20:57:18 WARN InstanceBuilder: Failed to load implementation from:dev.ludovic.netlib.lapack.JNILAPACK\n"
     ]
    }
   ],
   "source": [
    "lr = LinearRegression(labelCol='crew', featuresCol='features')\n",
    "lrModel = lr.fit(train_data)"
   ]
  },
  {
   "cell_type": "code",
   "execution_count": 18,
   "id": "b5f0d5cd-564c-44af-8772-bfd5adc6c6c6",
   "metadata": {},
   "outputs": [
    {
     "name": "stdout",
     "output_type": "stream",
     "text": [
      "Intercept :-2.3804720584197128\n",
      "Coefficients :[-0.08146748931037798,0.49006169858563,0.7611589615677744,0.01666182329094658,0.040270008997525045]\n"
     ]
    }
   ],
   "source": [
    "print(\"Intercept :{}\".format(lrModel.intercept))\n",
    "print(\"Coefficients :{}\".format(lrModel.coefficients))"
   ]
  },
  {
   "cell_type": "code",
   "execution_count": 19,
   "id": "9a189d62-e243-46f5-ba4b-ca04c390fd76",
   "metadata": {},
   "outputs": [],
   "source": [
    "test_results = lrModel.evaluate(test_data)"
   ]
  },
  {
   "cell_type": "code",
   "execution_count": 20,
   "id": "1fcece05-f377-4e4a-a1d7-e84434282b98",
   "metadata": {},
   "outputs": [
    {
     "name": "stdout",
     "output_type": "stream",
     "text": [
      "R-Squared :0.8773845952788832\n",
      "RMSE :1.2956785875671035\n"
     ]
    }
   ],
   "source": [
    "print(\"R-Squared :{}\".format(test_results.r2))\n",
    "print(\"RMSE :{}\".format(test_results.rootMeanSquaredError))"
   ]
  },
  {
   "cell_type": "code",
   "execution_count": 21,
   "id": "140d51f2-d164-498b-a862-2c62756a0776",
   "metadata": {},
   "outputs": [],
   "source": [
    "deployresult = lrModel.transform(unlabelled)\n"
   ]
  },
  {
   "cell_type": "code",
   "execution_count": 22,
   "id": "772d2a5e-9802-43e1-a441-c2a6ccedd46a",
   "metadata": {},
   "outputs": [
    {
     "name": "stdout",
     "output_type": "stream",
     "text": [
      "+--------------------+--------------------+\n",
      "|            features|          prediction|\n",
      "+--------------------+--------------------+\n",
      "|[0.94,2.96,0.45,2...|-0.00944730271769...|\n",
      "|[2.08,4.4,1.04,48...|  1.7628329474160207|\n",
      "|[2.08,4.4,1.04,48...|  1.7628329474160207|\n",
      "|[3.2,5.13,1.6,60....|  2.4931123154718433|\n",
      "|[3.88,5.97,1.94,6...|  3.2222421826621774|\n",
      "|[3.94,4.36,0.88,3...|  1.0364146687073719|\n",
      "|[6.84,5.94,3.42,4...|  3.8373828686828535|\n",
      "|[6.86,5.93,3.44,4...|   3.401106563374456|\n",
      "|[6.94,5.94,3.55,4...|   4.022004658016868|\n",
      "|[7.49,6.74,3.96,5...|   4.292606105463383|\n",
      "|[7.76,6.22,3.86,3...|   3.711791572807906|\n",
      "|[8.0,5.37,4.0,23....|  3.4042029977058146|\n",
      "|[13.02,7.18,6.54,...|   5.934096997021838|\n",
      "|[14.4,7.77,7.2,43...|   6.584284812780654|\n",
      "|[15.04,7.08,7.52,...|   6.214253879834365|\n",
      "|[15.66,8.23,7.83,...|   7.242204997945075|\n",
      "|[17.5,9.64,8.75,4...|   9.096478753802497|\n",
      "|[18.0,8.67,9.0,38...|   7.900357022625778|\n",
      "|[18.48,9.51,9.24,...|   8.694858195936197|\n",
      "|[18.48,9.59,9.24,...|    8.70490494106389|\n",
      "+--------------------+--------------------+\n",
      "only showing top 20 rows\n",
      "\n"
     ]
    }
   ],
   "source": [
    "deployresult.show()"
   ]
  },
  {
   "cell_type": "code",
   "execution_count": null,
   "id": "0234563a-24d3-4231-824a-9ec6d604eef6",
   "metadata": {},
   "outputs": [],
   "source": []
  }
 ],
 "metadata": {
  "kernelspec": {
   "display_name": "Python 3 (ipykernel)",
   "language": "python",
   "name": "python3"
  },
  "language_info": {
   "codemirror_mode": {
    "name": "ipython",
    "version": 3
   },
   "file_extension": ".py",
   "mimetype": "text/x-python",
   "name": "python",
   "nbconvert_exporter": "python",
   "pygments_lexer": "ipython3",
   "version": "3.10.12"
  }
 },
 "nbformat": 4,
 "nbformat_minor": 5
}
